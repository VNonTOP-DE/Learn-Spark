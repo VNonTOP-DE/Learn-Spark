{
  "nbformat": 4,
  "nbformat_minor": 0,
  "metadata": {
    "colab": {
      "provenance": [],
      "toc_visible": true,
      "mount_file_id": "1uh45p4jfD36wxHL3DE4mi02E_yHcIYrb",
      "authorship_tag": "ABX9TyPivWqwciGBCHbJ2Q091aOG",
      "include_colab_link": true
    },
    "kernelspec": {
      "name": "python3",
      "display_name": "Python 3"
    },
    "language_info": {
      "name": "python"
    }
  },
  "cells": [
    {
      "cell_type": "markdown",
      "metadata": {
        "id": "view-in-github",
        "colab_type": "text"
      },
      "source": [
        "<a href=\"https://colab.research.google.com/github/VNonTOP-DE/Learn-Spark/blob/main/Learn_spark_part1_.ipynb\" target=\"_parent\"><img src=\"https://colab.research.google.com/assets/colab-badge.svg\" alt=\"Open In Colab\"/></a>"
      ]
    },
    {
      "cell_type": "code",
      "execution_count": null,
      "metadata": {
        "colab": {
          "base_uri": "https://localhost:8080/"
        },
        "id": "-oXNINoAioDl",
        "outputId": "6dad357f-efb8-474a-e175-86decf06a432"
      },
      "outputs": [
        {
          "output_type": "stream",
          "name": "stdout",
          "text": [
            "Requirement already satisfied: pyspark in /usr/local/lib/python3.11/dist-packages (3.5.5)\n",
            "Requirement already satisfied: py4j==0.10.9.7 in /usr/local/lib/python3.11/dist-packages (from pyspark) (0.10.9.7)\n"
          ]
        }
      ],
      "source": [
        "!pip install pyspark"
      ]
    },
    {
      "cell_type": "code",
      "source": [
        "from pyspark.sql import SparkSession"
      ],
      "metadata": {
        "id": "Ub36A7NqiwP3"
      },
      "execution_count": null,
      "outputs": []
    },
    {
      "cell_type": "code",
      "source": [
        "spark = SparkSession.builder.appName('Dataframe').getOrCreate()"
      ],
      "metadata": {
        "id": "fAGbzchBiwbt"
      },
      "execution_count": null,
      "outputs": []
    },
    {
      "cell_type": "code",
      "source": [
        "spark"
      ],
      "metadata": {
        "colab": {
          "base_uri": "https://localhost:8080/",
          "height": 219
        },
        "id": "WTG137IhiwfG",
        "outputId": "56c55330-bd0c-40e4-f37e-fa2ea74fdcbb"
      },
      "execution_count": null,
      "outputs": [
        {
          "output_type": "execute_result",
          "data": {
            "text/plain": [
              "<pyspark.sql.session.SparkSession at 0x7e3ed6042410>"
            ],
            "text/html": [
              "\n",
              "            <div>\n",
              "                <p><b>SparkSession - in-memory</b></p>\n",
              "                \n",
              "        <div>\n",
              "            <p><b>SparkContext</b></p>\n",
              "\n",
              "            <p><a href=\"http://c22e0a03164d:4040\">Spark UI</a></p>\n",
              "\n",
              "            <dl>\n",
              "              <dt>Version</dt>\n",
              "                <dd><code>v3.5.5</code></dd>\n",
              "              <dt>Master</dt>\n",
              "                <dd><code>local[*]</code></dd>\n",
              "              <dt>AppName</dt>\n",
              "                <dd><code>Dataframe</code></dd>\n",
              "            </dl>\n",
              "        </div>\n",
              "        \n",
              "            </div>\n",
              "        "
            ]
          },
          "metadata": {},
          "execution_count": 4
        }
      ]
    },
    {
      "cell_type": "code",
      "source": [
        "#read the dataset\n",
        "df_pyspark = spark.read.option('header', 'true').csv('walmart.csv', inferSchema=True)\n",
        "\n"
      ],
      "metadata": {
        "id": "66gaKd6Eiwl4"
      },
      "execution_count": null,
      "outputs": []
    },
    {
      "cell_type": "code",
      "source": [
        "#check the schema\n",
        "df_pyspark.printSchema()"
      ],
      "metadata": {
        "colab": {
          "base_uri": "https://localhost:8080/"
        },
        "id": "jlhvHM5RmmVP",
        "outputId": "2739e995-2171-498e-89b6-4db97063ecc6"
      },
      "execution_count": null,
      "outputs": [
        {
          "output_type": "stream",
          "name": "stdout",
          "text": [
            "root\n",
            " |-- keyword: string (nullable = true)\n",
            " |-- page: string (nullable = true)\n",
            " |-- position: string (nullable = true)\n",
            " |-- id: string (nullable = true)\n",
            " |-- type: string (nullable = true)\n",
            " |-- name: string (nullable = true)\n",
            " |-- brand: string (nullable = true)\n",
            " |-- averageRating: string (nullable = true)\n",
            " |-- manufacturerName: string (nullable = true)\n",
            " |-- shortDescription: string (nullable = true)\n",
            " |-- thumbnailUrl: string (nullable = true)\n",
            " |-- price: string (nullable = true)\n",
            " |-- currencyUnit: string (nullable = true)\n",
            "\n"
          ]
        }
      ]
    },
    {
      "cell_type": "code",
      "source": [
        "type(df_pyspark)"
      ],
      "metadata": {
        "colab": {
          "base_uri": "https://localhost:8080/",
          "height": 187
        },
        "id": "Wmps1FLammX_",
        "outputId": "e804650a-0ee6-49a8-83e8-09a5b7d5ed4b"
      },
      "execution_count": null,
      "outputs": [
        {
          "output_type": "execute_result",
          "data": {
            "text/plain": [
              "pyspark.sql.dataframe.DataFrame"
            ],
            "text/html": [
              "<div style=\"max-width:800px; border: 1px solid var(--colab-border-color);\"><style>\n",
              "      pre.function-repr-contents {\n",
              "        overflow-x: auto;\n",
              "        padding: 8px 12px;\n",
              "        max-height: 500px;\n",
              "      }\n",
              "\n",
              "      pre.function-repr-contents.function-repr-contents-collapsed {\n",
              "        cursor: pointer;\n",
              "        max-height: 100px;\n",
              "      }\n",
              "    </style>\n",
              "    <pre style=\"white-space: initial; background:\n",
              "         var(--colab-secondary-surface-color); padding: 8px 12px;\n",
              "         border-bottom: 1px solid var(--colab-border-color);\"><b>pyspark.sql.dataframe.DataFrame</b><br/>def __init__(jdf: JavaObject, sql_ctx: Union[&#x27;SQLContext&#x27;, &#x27;SparkSession&#x27;])</pre><pre class=\"function-repr-contents function-repr-contents-collapsed\" style=\"\"><a class=\"filepath\" style=\"display:none\" href=\"#\">/usr/local/lib/python3.11/dist-packages/pyspark/sql/dataframe.py</a>A distributed collection of data grouped into named columns.\n",
              "\n",
              ".. versionadded:: 1.3.0\n",
              "\n",
              ".. versionchanged:: 3.4.0\n",
              "    Supports Spark Connect.\n",
              "\n",
              "Examples\n",
              "--------\n",
              "A :class:`DataFrame` is equivalent to a relational table in Spark SQL,\n",
              "and can be created using various functions in :class:`SparkSession`:\n",
              "\n",
              "&gt;&gt;&gt; people = spark.createDataFrame([\n",
              "...     {&quot;deptId&quot;: 1, &quot;age&quot;: 40, &quot;name&quot;: &quot;Hyukjin Kwon&quot;, &quot;gender&quot;: &quot;M&quot;, &quot;salary&quot;: 50},\n",
              "...     {&quot;deptId&quot;: 1, &quot;age&quot;: 50, &quot;name&quot;: &quot;Takuya Ueshin&quot;, &quot;gender&quot;: &quot;M&quot;, &quot;salary&quot;: 100},\n",
              "...     {&quot;deptId&quot;: 2, &quot;age&quot;: 60, &quot;name&quot;: &quot;Xinrong Meng&quot;, &quot;gender&quot;: &quot;F&quot;, &quot;salary&quot;: 150},\n",
              "...     {&quot;deptId&quot;: 3, &quot;age&quot;: 20, &quot;name&quot;: &quot;Haejoon Lee&quot;, &quot;gender&quot;: &quot;M&quot;, &quot;salary&quot;: 200}\n",
              "... ])\n",
              "\n",
              "Once created, it can be manipulated using the various domain-specific-language\n",
              "(DSL) functions defined in: :class:`DataFrame`, :class:`Column`.\n",
              "\n",
              "To select a column from the :class:`DataFrame`, use the apply method:\n",
              "\n",
              "&gt;&gt;&gt; age_col = people.age\n",
              "\n",
              "A more concrete example:\n",
              "\n",
              "&gt;&gt;&gt; # To create DataFrame using SparkSession\n",
              "... department = spark.createDataFrame([\n",
              "...     {&quot;id&quot;: 1, &quot;name&quot;: &quot;PySpark&quot;},\n",
              "...     {&quot;id&quot;: 2, &quot;name&quot;: &quot;ML&quot;},\n",
              "...     {&quot;id&quot;: 3, &quot;name&quot;: &quot;Spark SQL&quot;}\n",
              "... ])\n",
              "\n",
              "&gt;&gt;&gt; people.filter(people.age &gt; 30).join(\n",
              "...     department, people.deptId == department.id).groupBy(\n",
              "...     department.name, &quot;gender&quot;).agg({&quot;salary&quot;: &quot;avg&quot;, &quot;age&quot;: &quot;max&quot;}).show()\n",
              "+-------+------+-----------+--------+\n",
              "|   name|gender|avg(salary)|max(age)|\n",
              "+-------+------+-----------+--------+\n",
              "|     ML|     F|      150.0|      60|\n",
              "|PySpark|     M|       75.0|      50|\n",
              "+-------+------+-----------+--------+\n",
              "\n",
              "Notes\n",
              "-----\n",
              "A DataFrame should only be created as described above. It should not be directly\n",
              "created via using the constructor.</pre>\n",
              "      <script>\n",
              "      if (google.colab.kernel.accessAllowed && google.colab.files && google.colab.files.view) {\n",
              "        for (const element of document.querySelectorAll('.filepath')) {\n",
              "          element.style.display = 'block'\n",
              "          element.onclick = (event) => {\n",
              "            event.preventDefault();\n",
              "            event.stopPropagation();\n",
              "            google.colab.files.view(element.textContent, 80);\n",
              "          };\n",
              "        }\n",
              "      }\n",
              "      for (const element of document.querySelectorAll('.function-repr-contents')) {\n",
              "        element.onclick = (event) => {\n",
              "          event.preventDefault();\n",
              "          event.stopPropagation();\n",
              "          element.classList.toggle('function-repr-contents-collapsed');\n",
              "        };\n",
              "      }\n",
              "      </script>\n",
              "      </div>"
            ]
          },
          "metadata": {},
          "execution_count": 30
        }
      ]
    },
    {
      "cell_type": "code",
      "source": [
        "df_pyspark.head(3)"
      ],
      "metadata": {
        "colab": {
          "base_uri": "https://localhost:8080/"
        },
        "id": "b8vYK3XJmmbC",
        "outputId": "a51d7b98-497c-4a13-a130-ac16b29eab5d"
      },
      "execution_count": null,
      "outputs": [
        {
          "output_type": "execute_result",
          "data": {
            "text/plain": [
              "[Row(keyword='perfume', page='1', position='1', id='1RQ2KVWAW4L5', type='Perfumes', name='Versace Bright Crystal Eau De Toilette Spray, Perfume for Women, 3 Fluid Ounces', brand='Versace', averageRating='4.1', manufacturerName=None, shortDescription=\"Well known, Versace Brand, Versace Bright Crystal Perfume for Women, 3 Fluid oz .  Inspired by a mixture of Donatella Versace's favorite floral fragrances, Bright Crystal is a fresh, sensual blend of refreshing chilled yuzu and pomegranate mingled with soothing blossoms of peony, magnolia, and lotus flower, warmed with notes of musk and amber. Notes: iced accord, yuzu, pomegranate, peony, magnolia, lotus flower, acajou, vegetal amber, musk\", thumbnailUrl='https://i5.walmartimages.com/seo/Versace-Bright-Crystal-Eau-De-Toilette-Spray-Perfume-for-Women-3-Fluid-Ounces_58eb84dd-2389-4e2c-8674-dcd595f2d810.570d4945e8556483d1c4210b38bb5487.jpeg', price='32.49', currencyUnit='USD'),\n",
              " Row(keyword='perfume', page='4', position='41', id='671UM03HM2MS', type='Perfumes', name='Jimmy Choo Eau De Parfum Spray, Perfume for Women 2 oz', brand='Jimmy Choo', averageRating='4.5', manufacturerName=None, shortDescription='jimmy choo has created a signature brand of sophisticated shoes and accessories. With this success, jimmy choo went on to launch its premier fragrance in 2011. This jimmy choo fragrance was aptly named jimmy choo. Perfumes vary widely in style and composition, but jimmy choo parfum has resonated with many women with its unique combination of femininity and sensuality. Some fragrances have an overpowering composition that places them into a single category. Not so with the jimmy choo fragrance. This unique mix of scents blends into a fragrance that succeeds in being both feminine and sensual without leaning too heavily in either direction.<br><br> distinguished perfumer olivier polge is the mastermind behind the jimmy choo fragrance. Polge, from the house of iff, designed this signature scent to appeal to many different women with varying pr', thumbnailUrl='https://i5.walmartimages.com/seo/Jimmy-Choo-Eau-De-Parfum-Spray-Perfume-for-Women-2-oz_a9b0e34f-0780-4d4b-813b-f46a094177c1.78892d1303bc27cec2c9c5fa73674679.jpeg', price='32.97', currencyUnit='USD'),\n",
              " Row(keyword='perfume', page='3', position='37', id='4KRY0RE37RED', type='Perfumes', name='Emporio Armani Stronger With You Intensely Eau De Parfum for Men 100 ml / 3.4 oz', brand='Emporio Armani', averageRating='4.7', manufacturerName=None, shortDescription='Emporio Armani Stronger With You Intensely Eau De Parfum Spray for Men 100 ml / 3.4 oz.  Indulge in the captivating allure. This fragrance is a powerful expression of modern masculinity, crafted for the man who exudes confidence, charisma and allure at every turn. With its intensified version of the original Stronger With You scent, this fragrance offers a deeper and more profound olfactory experience, leaving an indelible mark wherever you go. From the moment it graces your skin, Stronger With You Intensely envelops you in a rich tapestry of notes that evoke strength, warmth and sensuality. At its core lies a captivating blend of spicy and warm accords, including the invigorating bite of pink pepper, the aromatic richness of cardamom, and the sumptuous sweetness of toffee.', thumbnailUrl='https://i5.walmartimages.com/seo/Emporio-Armani-Stronger-With-You-Intensely-Eau-De-Parfum-for-Men-100-ml-3-4-oz_2e7d513d-e9ed-47de-937c-5b2e2b98fa50.641aab354bcd70a373b4c25ac1e67e38.jpeg', price='87.95', currencyUnit='USD')]"
            ]
          },
          "metadata": {},
          "execution_count": 31
        }
      ]
    },
    {
      "cell_type": "code",
      "source": [
        "# prompt: you know what i'm doing right ?\n",
        "\n",
        "#displaying the dataframe\n",
        "df_pyspark.show()\n"
      ],
      "metadata": {
        "colab": {
          "base_uri": "https://localhost:8080/"
        },
        "id": "va2lIbZ8mml8",
        "outputId": "edaaaeab-ed55-4f4f-abf4-908c5ab4b8dd"
      },
      "execution_count": null,
      "outputs": [
        {
          "output_type": "stream",
          "name": "stdout",
          "text": [
            "+-------+----+--------+------------+--------+--------------------+--------------------+-------------+----------------+--------------------+--------------------+-----+------------+\n",
            "|keyword|page|position|          id|    type|                name|               brand|averageRating|manufacturerName|    shortDescription|        thumbnailUrl|price|currencyUnit|\n",
            "+-------+----+--------+------------+--------+--------------------+--------------------+-------------+----------------+--------------------+--------------------+-----+------------+\n",
            "|perfume|   1|       1|1RQ2KVWAW4L5|Perfumes|Versace Bright Cr...|             Versace|          4.1|            NULL|Well known, Versa...|https://i5.walmar...|32.49|         USD|\n",
            "|perfume|   4|      41|671UM03HM2MS|Perfumes|Jimmy Choo Eau De...|          Jimmy Choo|          4.5|            NULL|jimmy choo has cr...|https://i5.walmar...|32.97|         USD|\n",
            "|perfume|   3|      37|4KRY0RE37RED|Perfumes|Emporio Armani St...|      Emporio Armani|          4.7|            NULL|Emporio Armani St...|https://i5.walmar...|87.95|         USD|\n",
            "|perfume|   3|      34|4ZAW52AOMED5|Perfumes|Yves Saint Lauren...|  Yves Saint Laurent|          4.7|            NULL|Yves Saint Lauren...|https://i5.walmar...| 54.6|         USD|\n",
            "|perfume|   3|      33|57DLMBVIMH85|Perfumes|Ralph Lauren Roma...|        Ralph Lauren|          4.7|            NULL|Ralph Lauren Roma...|https://i5.walmar...| 25.3|         USD|\n",
            "|perfume|   3|      32|2E6GYGZX3YB5|Perfumes|Clinique Happy He...|            Clinique|          4.6|            NULL|<p>Brand Clinique...|https://i5.walmar...|   20|         USD|\n",
            "|perfume|   3|      31|7H8II6SJKCNA|Perfumes|Viva La Juicy Ros...|       Juicy Couture|          4.3|            NULL|Viva La Juicy Ros...|https://i5.walmar...|33.31|         USD|\n",
            "|perfume|   3|      30|6VUZI9M7DYQV|Perfumes|BRIGHT CRYSTAL AB...|             Versace|          4.4|            NULL|<p>Versace Bright...|https://i5.walmar...|13.11|         USD|\n",
            "|perfume|   3|      29|3X3L5AF4RUWY|Perfumes|Jimmy Choo Eau De...|          Jimmy Choo|          4.5|            NULL|jimmy choo has cr...|https://i5.walmar...|43.49|         USD|\n",
            "|perfume|   3|      28|1FNYYPL1GS7M|Perfumes|Estee Lauder Beau...|        Estee Lauder|          4.4|            NULL|EAU DE PARFUM SPR...|https://i5.walmar...|   33|         USD|\n",
            "|perfume|   3|      27|689LYHN0FGKL|Perfumes|Charlie Blue by R...|             Charlie|          4.3|            NULL|Entice those arou...|https://i5.walmar...|13.98|         USD|\n",
            "|perfume|   3|      26|12Z2SWG2M1PA|Perfumes|5th Avenue by Eli...|     Elizabeth Arden|          4.6|            NULL|5th Avenue by Eli...|https://i5.walmar...| 24.4|         USD|\n",
            "|perfume|   3|      25|4JSLJQ9NOFKX|Perfumes|Tommy Hilfiger To...|      Tommy Hilfiger|          4.6|            NULL|Tommy Girl by Tom...|https://i5.walmar...|   32|         USD|\n",
            "|perfume|   3|      24|31PZKQ2C3WP5|Perfumes|Myself by Yves Sa...|  Yves Saint Laurent|          4.7|            NULL|Top notes are Cal...|https://i5.walmar...|76.43|         USD|\n",
            "|perfume|   3|      23|2560T0R9UGSD|Perfumes|Versace Eros Eau ...|             Versace|          4.5|            NULL|Versace Eros Eau ...|https://i5.walmar...|54.99|         USD|\n",
            "|perfume|   3|      22|6FD5RSZU6K06|Perfumes|Chanel Bleu De Ch...|              CHANEL|          3.7|            NULL|Chanel Bleu De Ch...|https://i5.walmar...|   78|         USD|\n",
            "|perfume|   3|      21|2HO82DD88JR7|Perfumes|Jimmy Choo Fever ...|          Jimmy Choo|          4.6|            NULL|Introduced in the...|https://i5.walmar...|41.99|         USD|\n",
            "|perfume|   3|      20|2TBHF6BEBTXI|Perfumes|Calvin Klein CK O...|        Calvin Klein|          4.6|            NULL|Calvin Klein Ck O...|https://i5.walmar...|35.87|         USD|\n",
            "|perfume|   3|      19|4W079OXL0LF5|Perfumes|Ralph Lauren Woma...|        Ralph Lauren|          4.9|            NULL|A scent that embo...|https://i5.walmar...|74.99|         USD|\n",
            "|perfume|   3|      18|6PLNTD0RU4RP|Perfumes|Ariana Grande God...|Ariana Grande God...|          4.4|            NULL|Empowered. Breath...|https://i5.walmar...|25.98|         USD|\n",
            "+-------+----+--------+------------+--------+--------------------+--------------------+-------------+----------------+--------------------+--------------------+-----+------------+\n",
            "only showing top 20 rows\n",
            "\n"
          ]
        }
      ]
    },
    {
      "cell_type": "code",
      "source": [
        "df_pyspark.select(['name', 'price']).show()"
      ],
      "metadata": {
        "colab": {
          "base_uri": "https://localhost:8080/"
        },
        "id": "umox1Zs-mmo-",
        "outputId": "81b9f067-9a7e-4f62-90eb-99c6b376cc44"
      },
      "execution_count": null,
      "outputs": [
        {
          "output_type": "stream",
          "name": "stdout",
          "text": [
            "+--------------------+-----+\n",
            "|                name|price|\n",
            "+--------------------+-----+\n",
            "|Versace Bright Cr...|32.49|\n",
            "|Jimmy Choo Eau De...|32.97|\n",
            "|Emporio Armani St...|87.95|\n",
            "|Yves Saint Lauren...| 54.6|\n",
            "|Ralph Lauren Roma...| 25.3|\n",
            "|Clinique Happy He...|   20|\n",
            "|Viva La Juicy Ros...|33.31|\n",
            "|BRIGHT CRYSTAL AB...|13.11|\n",
            "|Jimmy Choo Eau De...|43.49|\n",
            "|Estee Lauder Beau...|   33|\n",
            "|Charlie Blue by R...|13.98|\n",
            "|5th Avenue by Eli...| 24.4|\n",
            "|Tommy Hilfiger To...|   32|\n",
            "|Myself by Yves Sa...|76.43|\n",
            "|Versace Eros Eau ...|54.99|\n",
            "|Chanel Bleu De Ch...|   78|\n",
            "|Jimmy Choo Fever ...|41.99|\n",
            "|Calvin Klein CK O...|35.87|\n",
            "|Ralph Lauren Woma...|74.99|\n",
            "|Ariana Grande God...|25.98|\n",
            "+--------------------+-----+\n",
            "only showing top 20 rows\n",
            "\n"
          ]
        }
      ]
    },
    {
      "cell_type": "code",
      "source": [
        "df_pyspark.dtypes"
      ],
      "metadata": {
        "colab": {
          "base_uri": "https://localhost:8080/"
        },
        "id": "XPDESUXsmmr4",
        "outputId": "d83a8226-a454-46e7-a665-82123bde4c45"
      },
      "execution_count": null,
      "outputs": [
        {
          "output_type": "execute_result",
          "data": {
            "text/plain": [
              "[('keyword', 'string'),\n",
              " ('page', 'string'),\n",
              " ('position', 'string'),\n",
              " ('id', 'string'),\n",
              " ('type', 'string'),\n",
              " ('name', 'string'),\n",
              " ('brand', 'string'),\n",
              " ('averageRating', 'string'),\n",
              " ('manufacturerName', 'string'),\n",
              " ('shortDescription', 'string'),\n",
              " ('thumbnailUrl', 'string'),\n",
              " ('price', 'string'),\n",
              " ('currencyUnit', 'string')]"
            ]
          },
          "metadata": {},
          "execution_count": 37
        }
      ]
    },
    {
      "cell_type": "code",
      "source": [
        "df_pyspark.describe().show()"
      ],
      "metadata": {
        "colab": {
          "base_uri": "https://localhost:8080/"
        },
        "id": "kD-yAsuSseEn",
        "outputId": "e2458fda-fae7-4490-e082-7be584592354"
      },
      "execution_count": null,
      "outputs": [
        {
          "output_type": "stream",
          "name": "stdout",
          "text": [
            "+-------+--------------------+--------------------+--------------------+--------------------+--------------------+--------------------+--------------------+--------------------+--------------------+--------------------+--------------------+--------------------+--------------------+\n",
            "|summary|             keyword|                page|            position|                  id|                type|                name|               brand|       averageRating|    manufacturerName|    shortDescription|        thumbnailUrl|               price|        currencyUnit|\n",
            "+-------+--------------------+--------------------+--------------------+--------------------+--------------------+--------------------+--------------------+--------------------+--------------------+--------------------+--------------------+--------------------+--------------------+\n",
            "|  count|                 162|                 161|                 159|                 158|                 156|                 156|                 155|                 155|                   1|                 155|                 152|                 152|                 152|\n",
            "|   mean|                NULL|  2.4805194805194803|  21.612516129032258|                NULL|                32.0|                NULL|                NULL|   4.437662337662341|                NULL|                NULL|               227.0|   41.49972972972971|                89.0|\n",
            "| stddev|                NULL|  1.1388606806562545|  12.505347250746425|                NULL|                NULL|                NULL|                NULL|   0.379383387248295|                NULL|                NULL|                 0.0|  25.581777154361983|                 0.0|\n",
            "|    min|<p>Embark on an a...|   but not too sweet| Sweet Tooth is a...| packaged up in a...| expect to step i...| all resting on a...| the sparkling fr...| and the lingerin...| Sweet Tooth is a...| playful fragranc...|                 227| 227); box-sizing...| and sexy scent t...|\n",
            "|    max|             perfume|https://i5.walmar...|                   9|https://i5.walmar...|            Perfumes|Yves Saint Lauren...|Yves Saint Lauren...|                 4.9| Sweet Tooth is a...|jimmy choo has cr...|https://i5.walmar...|                  98|                 USD|\n",
            "+-------+--------------------+--------------------+--------------------+--------------------+--------------------+--------------------+--------------------+--------------------+--------------------+--------------------+--------------------+--------------------+--------------------+\n",
            "\n"
          ]
        }
      ]
    },
    {
      "cell_type": "code",
      "source": [
        "## adding column\n",
        "df_pyspark = df_pyspark.withColumn('price after tax', df_pyspark['price']*0.9)"
      ],
      "metadata": {
        "id": "r9F4JEVJseR8"
      },
      "execution_count": null,
      "outputs": []
    },
    {
      "cell_type": "code",
      "source": [
        "df_pyspark.show()"
      ],
      "metadata": {
        "colab": {
          "base_uri": "https://localhost:8080/"
        },
        "id": "H8Y_ztNitue7",
        "outputId": "7391113c-0d12-4c86-bfbb-302a3142cda3"
      },
      "execution_count": null,
      "outputs": [
        {
          "output_type": "stream",
          "name": "stdout",
          "text": [
            "+-------+----+--------+------------+--------+--------------------+--------------------+-------------+----------------+--------------------+--------------------+-----+------------+------------------+\n",
            "|keyword|page|position|          id|    type|                name|               brand|averageRating|manufacturerName|    shortDescription|        thumbnailUrl|price|currencyUnit|   price after tax|\n",
            "+-------+----+--------+------------+--------+--------------------+--------------------+-------------+----------------+--------------------+--------------------+-----+------------+------------------+\n",
            "|perfume|   1|       1|1RQ2KVWAW4L5|Perfumes|Versace Bright Cr...|             Versace|          4.1|            NULL|Well known, Versa...|https://i5.walmar...|32.49|         USD|29.241000000000003|\n",
            "|perfume|   4|      41|671UM03HM2MS|Perfumes|Jimmy Choo Eau De...|          Jimmy Choo|          4.5|            NULL|jimmy choo has cr...|https://i5.walmar...|32.97|         USD|            29.673|\n",
            "|perfume|   3|      37|4KRY0RE37RED|Perfumes|Emporio Armani St...|      Emporio Armani|          4.7|            NULL|Emporio Armani St...|https://i5.walmar...|87.95|         USD|            79.155|\n",
            "|perfume|   3|      34|4ZAW52AOMED5|Perfumes|Yves Saint Lauren...|  Yves Saint Laurent|          4.7|            NULL|Yves Saint Lauren...|https://i5.walmar...| 54.6|         USD|             49.14|\n",
            "|perfume|   3|      33|57DLMBVIMH85|Perfumes|Ralph Lauren Roma...|        Ralph Lauren|          4.7|            NULL|Ralph Lauren Roma...|https://i5.walmar...| 25.3|         USD|             22.77|\n",
            "|perfume|   3|      32|2E6GYGZX3YB5|Perfumes|Clinique Happy He...|            Clinique|          4.6|            NULL|<p>Brand Clinique...|https://i5.walmar...|   20|         USD|              18.0|\n",
            "|perfume|   3|      31|7H8II6SJKCNA|Perfumes|Viva La Juicy Ros...|       Juicy Couture|          4.3|            NULL|Viva La Juicy Ros...|https://i5.walmar...|33.31|         USD|29.979000000000003|\n",
            "|perfume|   3|      30|6VUZI9M7DYQV|Perfumes|BRIGHT CRYSTAL AB...|             Versace|          4.4|            NULL|<p>Versace Bright...|https://i5.walmar...|13.11|         USD|            11.799|\n",
            "|perfume|   3|      29|3X3L5AF4RUWY|Perfumes|Jimmy Choo Eau De...|          Jimmy Choo|          4.5|            NULL|jimmy choo has cr...|https://i5.walmar...|43.49|         USD|39.141000000000005|\n",
            "|perfume|   3|      28|1FNYYPL1GS7M|Perfumes|Estee Lauder Beau...|        Estee Lauder|          4.4|            NULL|EAU DE PARFUM SPR...|https://i5.walmar...|   33|         USD|              29.7|\n",
            "|perfume|   3|      27|689LYHN0FGKL|Perfumes|Charlie Blue by R...|             Charlie|          4.3|            NULL|Entice those arou...|https://i5.walmar...|13.98|         USD|            12.582|\n",
            "|perfume|   3|      26|12Z2SWG2M1PA|Perfumes|5th Avenue by Eli...|     Elizabeth Arden|          4.6|            NULL|5th Avenue by Eli...|https://i5.walmar...| 24.4|         USD|             21.96|\n",
            "|perfume|   3|      25|4JSLJQ9NOFKX|Perfumes|Tommy Hilfiger To...|      Tommy Hilfiger|          4.6|            NULL|Tommy Girl by Tom...|https://i5.walmar...|   32|         USD|              28.8|\n",
            "|perfume|   3|      24|31PZKQ2C3WP5|Perfumes|Myself by Yves Sa...|  Yves Saint Laurent|          4.7|            NULL|Top notes are Cal...|https://i5.walmar...|76.43|         USD|            68.787|\n",
            "|perfume|   3|      23|2560T0R9UGSD|Perfumes|Versace Eros Eau ...|             Versace|          4.5|            NULL|Versace Eros Eau ...|https://i5.walmar...|54.99|         USD|            49.491|\n",
            "|perfume|   3|      22|6FD5RSZU6K06|Perfumes|Chanel Bleu De Ch...|              CHANEL|          3.7|            NULL|Chanel Bleu De Ch...|https://i5.walmar...|   78|         USD|              70.2|\n",
            "|perfume|   3|      21|2HO82DD88JR7|Perfumes|Jimmy Choo Fever ...|          Jimmy Choo|          4.6|            NULL|Introduced in the...|https://i5.walmar...|41.99|         USD|37.791000000000004|\n",
            "|perfume|   3|      20|2TBHF6BEBTXI|Perfumes|Calvin Klein CK O...|        Calvin Klein|          4.6|            NULL|Calvin Klein Ck O...|https://i5.walmar...|35.87|         USD|            32.283|\n",
            "|perfume|   3|      19|4W079OXL0LF5|Perfumes|Ralph Lauren Woma...|        Ralph Lauren|          4.9|            NULL|A scent that embo...|https://i5.walmar...|74.99|         USD|            67.491|\n",
            "|perfume|   3|      18|6PLNTD0RU4RP|Perfumes|Ariana Grande God...|Ariana Grande God...|          4.4|            NULL|Empowered. Breath...|https://i5.walmar...|25.98|         USD|            23.382|\n",
            "+-------+----+--------+------------+--------+--------------------+--------------------+-------------+----------------+--------------------+--------------------+-----+------------+------------------+\n",
            "only showing top 20 rows\n",
            "\n"
          ]
        }
      ]
    },
    {
      "cell_type": "code",
      "source": [
        "#drop colums\n",
        "df_pyspark = df_pyspark.drop('price after tax')"
      ],
      "metadata": {
        "id": "vXqnrv0aseU2"
      },
      "execution_count": null,
      "outputs": []
    },
    {
      "cell_type": "code",
      "source": [
        "df_pyspark.show()"
      ],
      "metadata": {
        "colab": {
          "base_uri": "https://localhost:8080/"
        },
        "id": "wTnac1y-seXw",
        "outputId": "c7f46b25-1b7b-4bd4-e4d6-bda25da59fc5"
      },
      "execution_count": null,
      "outputs": [
        {
          "output_type": "stream",
          "name": "stdout",
          "text": [
            "+-------+----+--------+------------+--------+--------------------+--------------------+-------------+----------------+--------------------+--------------------+-----+------------+\n",
            "|keyword|page|position|          id|    type|                name|               brand|averageRating|manufacturerName|    shortDescription|        thumbnailUrl|price|currencyUnit|\n",
            "+-------+----+--------+------------+--------+--------------------+--------------------+-------------+----------------+--------------------+--------------------+-----+------------+\n",
            "|perfume|   1|       1|1RQ2KVWAW4L5|Perfumes|Versace Bright Cr...|             Versace|          4.1|            NULL|Well known, Versa...|https://i5.walmar...|32.49|         USD|\n",
            "|perfume|   4|      41|671UM03HM2MS|Perfumes|Jimmy Choo Eau De...|          Jimmy Choo|          4.5|            NULL|jimmy choo has cr...|https://i5.walmar...|32.97|         USD|\n",
            "|perfume|   3|      37|4KRY0RE37RED|Perfumes|Emporio Armani St...|      Emporio Armani|          4.7|            NULL|Emporio Armani St...|https://i5.walmar...|87.95|         USD|\n",
            "|perfume|   3|      34|4ZAW52AOMED5|Perfumes|Yves Saint Lauren...|  Yves Saint Laurent|          4.7|            NULL|Yves Saint Lauren...|https://i5.walmar...| 54.6|         USD|\n",
            "|perfume|   3|      33|57DLMBVIMH85|Perfumes|Ralph Lauren Roma...|        Ralph Lauren|          4.7|            NULL|Ralph Lauren Roma...|https://i5.walmar...| 25.3|         USD|\n",
            "|perfume|   3|      32|2E6GYGZX3YB5|Perfumes|Clinique Happy He...|            Clinique|          4.6|            NULL|<p>Brand Clinique...|https://i5.walmar...|   20|         USD|\n",
            "|perfume|   3|      31|7H8II6SJKCNA|Perfumes|Viva La Juicy Ros...|       Juicy Couture|          4.3|            NULL|Viva La Juicy Ros...|https://i5.walmar...|33.31|         USD|\n",
            "|perfume|   3|      30|6VUZI9M7DYQV|Perfumes|BRIGHT CRYSTAL AB...|             Versace|          4.4|            NULL|<p>Versace Bright...|https://i5.walmar...|13.11|         USD|\n",
            "|perfume|   3|      29|3X3L5AF4RUWY|Perfumes|Jimmy Choo Eau De...|          Jimmy Choo|          4.5|            NULL|jimmy choo has cr...|https://i5.walmar...|43.49|         USD|\n",
            "|perfume|   3|      28|1FNYYPL1GS7M|Perfumes|Estee Lauder Beau...|        Estee Lauder|          4.4|            NULL|EAU DE PARFUM SPR...|https://i5.walmar...|   33|         USD|\n",
            "|perfume|   3|      27|689LYHN0FGKL|Perfumes|Charlie Blue by R...|             Charlie|          4.3|            NULL|Entice those arou...|https://i5.walmar...|13.98|         USD|\n",
            "|perfume|   3|      26|12Z2SWG2M1PA|Perfumes|5th Avenue by Eli...|     Elizabeth Arden|          4.6|            NULL|5th Avenue by Eli...|https://i5.walmar...| 24.4|         USD|\n",
            "|perfume|   3|      25|4JSLJQ9NOFKX|Perfumes|Tommy Hilfiger To...|      Tommy Hilfiger|          4.6|            NULL|Tommy Girl by Tom...|https://i5.walmar...|   32|         USD|\n",
            "|perfume|   3|      24|31PZKQ2C3WP5|Perfumes|Myself by Yves Sa...|  Yves Saint Laurent|          4.7|            NULL|Top notes are Cal...|https://i5.walmar...|76.43|         USD|\n",
            "|perfume|   3|      23|2560T0R9UGSD|Perfumes|Versace Eros Eau ...|             Versace|          4.5|            NULL|Versace Eros Eau ...|https://i5.walmar...|54.99|         USD|\n",
            "|perfume|   3|      22|6FD5RSZU6K06|Perfumes|Chanel Bleu De Ch...|              CHANEL|          3.7|            NULL|Chanel Bleu De Ch...|https://i5.walmar...|   78|         USD|\n",
            "|perfume|   3|      21|2HO82DD88JR7|Perfumes|Jimmy Choo Fever ...|          Jimmy Choo|          4.6|            NULL|Introduced in the...|https://i5.walmar...|41.99|         USD|\n",
            "|perfume|   3|      20|2TBHF6BEBTXI|Perfumes|Calvin Klein CK O...|        Calvin Klein|          4.6|            NULL|Calvin Klein Ck O...|https://i5.walmar...|35.87|         USD|\n",
            "|perfume|   3|      19|4W079OXL0LF5|Perfumes|Ralph Lauren Woma...|        Ralph Lauren|          4.9|            NULL|A scent that embo...|https://i5.walmar...|74.99|         USD|\n",
            "|perfume|   3|      18|6PLNTD0RU4RP|Perfumes|Ariana Grande God...|Ariana Grande God...|          4.4|            NULL|Empowered. Breath...|https://i5.walmar...|25.98|         USD|\n",
            "+-------+----+--------+------------+--------+--------------------+--------------------+-------------+----------------+--------------------+--------------------+-----+------------+\n",
            "only showing top 20 rows\n",
            "\n"
          ]
        }
      ]
    },
    {
      "cell_type": "code",
      "source": [
        "##rename the colum\n",
        "df_pyspark = df_pyspark.withColumnRenamed('currencyUnit', 'Currency').show()"
      ],
      "metadata": {
        "colab": {
          "base_uri": "https://localhost:8080/"
        },
        "id": "_YIAc-E6seak",
        "outputId": "542ba474-12ed-4e51-db5e-0819c9bf4909"
      },
      "execution_count": null,
      "outputs": [
        {
          "output_type": "stream",
          "name": "stdout",
          "text": [
            "+-------+----+--------+------------+--------+--------------------+--------------------+-------------+----------------+--------------------+--------------------+-----+--------+\n",
            "|keyword|page|position|          id|    type|                name|               brand|averageRating|manufacturerName|    shortDescription|        thumbnailUrl|price|Currency|\n",
            "+-------+----+--------+------------+--------+--------------------+--------------------+-------------+----------------+--------------------+--------------------+-----+--------+\n",
            "|perfume|   1|       1|1RQ2KVWAW4L5|Perfumes|Versace Bright Cr...|             Versace|          4.1|            NULL|Well known, Versa...|https://i5.walmar...|32.49|     USD|\n",
            "|perfume|   4|      41|671UM03HM2MS|Perfumes|Jimmy Choo Eau De...|          Jimmy Choo|          4.5|            NULL|jimmy choo has cr...|https://i5.walmar...|32.97|     USD|\n",
            "|perfume|   3|      37|4KRY0RE37RED|Perfumes|Emporio Armani St...|      Emporio Armani|          4.7|            NULL|Emporio Armani St...|https://i5.walmar...|87.95|     USD|\n",
            "|perfume|   3|      34|4ZAW52AOMED5|Perfumes|Yves Saint Lauren...|  Yves Saint Laurent|          4.7|            NULL|Yves Saint Lauren...|https://i5.walmar...| 54.6|     USD|\n",
            "|perfume|   3|      33|57DLMBVIMH85|Perfumes|Ralph Lauren Roma...|        Ralph Lauren|          4.7|            NULL|Ralph Lauren Roma...|https://i5.walmar...| 25.3|     USD|\n",
            "|perfume|   3|      32|2E6GYGZX3YB5|Perfumes|Clinique Happy He...|            Clinique|          4.6|            NULL|<p>Brand Clinique...|https://i5.walmar...|   20|     USD|\n",
            "|perfume|   3|      31|7H8II6SJKCNA|Perfumes|Viva La Juicy Ros...|       Juicy Couture|          4.3|            NULL|Viva La Juicy Ros...|https://i5.walmar...|33.31|     USD|\n",
            "|perfume|   3|      30|6VUZI9M7DYQV|Perfumes|BRIGHT CRYSTAL AB...|             Versace|          4.4|            NULL|<p>Versace Bright...|https://i5.walmar...|13.11|     USD|\n",
            "|perfume|   3|      29|3X3L5AF4RUWY|Perfumes|Jimmy Choo Eau De...|          Jimmy Choo|          4.5|            NULL|jimmy choo has cr...|https://i5.walmar...|43.49|     USD|\n",
            "|perfume|   3|      28|1FNYYPL1GS7M|Perfumes|Estee Lauder Beau...|        Estee Lauder|          4.4|            NULL|EAU DE PARFUM SPR...|https://i5.walmar...|   33|     USD|\n",
            "|perfume|   3|      27|689LYHN0FGKL|Perfumes|Charlie Blue by R...|             Charlie|          4.3|            NULL|Entice those arou...|https://i5.walmar...|13.98|     USD|\n",
            "|perfume|   3|      26|12Z2SWG2M1PA|Perfumes|5th Avenue by Eli...|     Elizabeth Arden|          4.6|            NULL|5th Avenue by Eli...|https://i5.walmar...| 24.4|     USD|\n",
            "|perfume|   3|      25|4JSLJQ9NOFKX|Perfumes|Tommy Hilfiger To...|      Tommy Hilfiger|          4.6|            NULL|Tommy Girl by Tom...|https://i5.walmar...|   32|     USD|\n",
            "|perfume|   3|      24|31PZKQ2C3WP5|Perfumes|Myself by Yves Sa...|  Yves Saint Laurent|          4.7|            NULL|Top notes are Cal...|https://i5.walmar...|76.43|     USD|\n",
            "|perfume|   3|      23|2560T0R9UGSD|Perfumes|Versace Eros Eau ...|             Versace|          4.5|            NULL|Versace Eros Eau ...|https://i5.walmar...|54.99|     USD|\n",
            "|perfume|   3|      22|6FD5RSZU6K06|Perfumes|Chanel Bleu De Ch...|              CHANEL|          3.7|            NULL|Chanel Bleu De Ch...|https://i5.walmar...|   78|     USD|\n",
            "|perfume|   3|      21|2HO82DD88JR7|Perfumes|Jimmy Choo Fever ...|          Jimmy Choo|          4.6|            NULL|Introduced in the...|https://i5.walmar...|41.99|     USD|\n",
            "|perfume|   3|      20|2TBHF6BEBTXI|Perfumes|Calvin Klein CK O...|        Calvin Klein|          4.6|            NULL|Calvin Klein Ck O...|https://i5.walmar...|35.87|     USD|\n",
            "|perfume|   3|      19|4W079OXL0LF5|Perfumes|Ralph Lauren Woma...|        Ralph Lauren|          4.9|            NULL|A scent that embo...|https://i5.walmar...|74.99|     USD|\n",
            "|perfume|   3|      18|6PLNTD0RU4RP|Perfumes|Ariana Grande God...|Ariana Grande God...|          4.4|            NULL|Empowered. Breath...|https://i5.walmar...|25.98|     USD|\n",
            "+-------+----+--------+------------+--------+--------------------+--------------------+-------------+----------------+--------------------+--------------------+-----+--------+\n",
            "only showing top 20 rows\n",
            "\n"
          ]
        }
      ]
    },
    {
      "cell_type": "code",
      "source": [],
      "metadata": {
        "id": "ruK2GESVsedf"
      },
      "execution_count": null,
      "outputs": []
    },
    {
      "cell_type": "code",
      "source": [],
      "metadata": {
        "id": "6j4CgchGsegg"
      },
      "execution_count": null,
      "outputs": []
    }
  ]
}